{
  "cells": [
    {
      "cell_type": "code",
      "execution_count": 1,
      "metadata": {
        "id": "YeULIZqVBZ8J"
      },
      "outputs": [],
      "source": [
        "import tensorflow as tf\n",
        "\n",
        "from keras.datasets import mnist\n",
        "from keras.models import Model\n",
        "from keras.layers import Dense, Input\n",
        "\n",
        "import matplotlib.pyplot as plt"
      ]
    },
    {
      "cell_type": "code",
      "execution_count": null,
      "metadata": {
        "id": "ENstK5WyBZ8N"
      },
      "outputs": [],
      "source": [
        "(X_train, y_train),(X_test, y_test) = mnist.load_data()\n",
        "X_train.shape"
      ]
    },
    {
      "cell_type": "code",
      "execution_count": null,
      "metadata": {
        "id": "WgHzXeKQBZ8P"
      },
      "outputs": [],
      "source": [
        "# Visulaize\n",
        "plt.imshow(X_train[0])"
      ]
    },
    {
      "cell_type": "code",
      "execution_count": null,
      "metadata": {
        "id": "HJbYfvVbBZ8P"
      },
      "outputs": [],
      "source": [
        "plt.imshow(X_test[0])"
      ]
    },
    {
      "cell_type": "code",
      "execution_count": null,
      "metadata": {
        "id": "kuZ9amt2BZ8Q"
      },
      "outputs": [],
      "source": [
        "# convert into vector\n",
        "X_train = X_train.reshape(X_train.shape[0], 28*28)\n",
        "X_test = X_test.reshape(X_test.shape[0], 28*28)\n",
        "X_train.shape"
      ]
    },
    {
      "cell_type": "code",
      "execution_count": null,
      "metadata": {
        "id": "O7P8Hk9WBZ8R"
      },
      "outputs": [],
      "source": [
        "# rescale\n",
        "X_train.max()"
      ]
    },
    {
      "cell_type": "code",
      "execution_count": null,
      "metadata": {
        "id": "zU9gwDdgBZ8R"
      },
      "outputs": [],
      "source": [
        "X_train = X_train / 255.0\n",
        "X_test = X_test / 255.0\n",
        "X_train.max()"
      ]
    },
    {
      "cell_type": "markdown",
      "metadata": {
        "id": "XzcLVdOnBZ8S"
      },
      "source": [
        "# Model"
      ]
    },
    {
      "cell_type": "code",
      "execution_count": 8,
      "metadata": {
        "id": "N4mDP0WmBZ8V"
      },
      "outputs": [],
      "source": [
        "input_layer = Input(shape = (X_train.shape[1]))\n",
        "bottleneck = Dense(32, activation = 'relu', name = 'bottleneck')(input_layer)\n",
        "output = Dense(X_train.shape[1], activation = 'sigmoid', name = 'output')(bottleneck)"
      ]
    },
    {
      "cell_type": "code",
      "execution_count": null,
      "metadata": {
        "id": "Ky7XcjpYBZ8W"
      },
      "outputs": [],
      "source": [
        "autoencoder = Model(input_layer, output)\n",
        "autoencoder.summary()"
      ]
    },
    {
      "cell_type": "code",
      "execution_count": null,
      "metadata": {
        "id": "v4BplXIaBZ8X"
      },
      "outputs": [],
      "source": [
        "encoder = Model(input_layer, bottleneck)\n",
        "encoder.summary()"
      ]
    },
    {
      "cell_type": "code",
      "execution_count": null,
      "metadata": {
        "id": "vpCPz-KRBZ8Y"
      },
      "outputs": [],
      "source": [
        "encoded_layer = Input(shape = (32,), name = 'encoded_layer')\n",
        "decoder_layer = autoencoder.layers[-1]\n",
        "decoder = Model(encoded_layer, decoder_layer(encoded_layer))\n",
        "decoder.summary()"
      ]
    },
    {
      "cell_type": "code",
      "execution_count": null,
      "metadata": {
        "id": "3euuohoLBZ8Y"
      },
      "outputs": [],
      "source": [
        "autoencoder.compile(loss = 'mse', optimizer = 'adam')\n",
        "history = autoencoder.fit(X_train, X_train, epochs=20, batch_size = 128)"
      ]
    },
    {
      "cell_type": "code",
      "execution_count": null,
      "metadata": {
        "id": "_S6sjRodBZ8Z"
      },
      "outputs": [],
      "source": [
        "plt.plot(history.history['loss'])"
      ]
    },
    {
      "cell_type": "code",
      "execution_count": null,
      "metadata": {
        "id": "oztA7HdBBZ8Z"
      },
      "outputs": [],
      "source": [
        "encoded_data = encoder.predict(X_test, batch_size=512)\n",
        "encoded_data.shape"
      ]
    },
    {
      "cell_type": "code",
      "execution_count": null,
      "metadata": {
        "id": "IVVmbBP7BZ8a"
      },
      "outputs": [],
      "source": [
        "output_data = decoder.predict(encoded_data, batch_size=512)\n",
        "output_data.shape"
      ]
    },
    {
      "cell_type": "code",
      "execution_count": null,
      "metadata": {
        "id": "rwbCwjzIBZ8a"
      },
      "outputs": [],
      "source": [
        "output_data = output_data.reshape(output_data.shape[0], 28,28)\n",
        "output_data.shape"
      ]
    },
    {
      "cell_type": "code",
      "execution_count": null,
      "metadata": {
        "id": "B017Yo-KBZ8a"
      },
      "outputs": [],
      "source": [
        "plt.imshow(output_data[0], cmap ='Blues')"
      ]
    },
    {
      "cell_type": "code",
      "execution_count": null,
      "metadata": {
        "id": "lrRZfjORBZ8b"
      },
      "outputs": [],
      "source": [
        "X_test = X_test.reshape(10000, 28,28)\n",
        "X_test.shape"
      ]
    },
    {
      "cell_type": "code",
      "execution_count": null,
      "metadata": {
        "id": "fY5bilc4BZ8b"
      },
      "outputs": [],
      "source": [
        "plt.imshow(X_test[0], cmap = 'gray')"
      ]
    },
    {
      "cell_type": "code",
      "execution_count": null,
      "metadata": {
        "id": "c65yyqGpBZ8c"
      },
      "outputs": [],
      "source": [
        ""
      ]
    }
  ],
  "metadata": {
    "kernelspec": {
      "display_name": "Python 3",
      "language": "python",
      "name": "python3"
    },
    "language_info": {
      "codemirror_mode": {
        "name": "ipython",
        "version": 3
      },
      "file_extension": ".py",
      "mimetype": "text/x-python",
      "name": "python",
      "nbconvert_exporter": "python",
      "pygments_lexer": "ipython3",
      "version": "3.6.9"
    },
    "colab": {
      "name": "Simple Feed Forward Autoencoder.ipynb",
      "provenance": []
    }
  },
  "nbformat": 4,
  "nbformat_minor": 0
}